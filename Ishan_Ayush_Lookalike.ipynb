{
 "cells": [
  {
   "cell_type": "markdown",
   "metadata": {},
   "source": [
    "# Task 2: Lookalike Model"
   ]
  },
  {
   "cell_type": "markdown",
   "metadata": {},
   "source": [
    "Importing necessary libraries"
   ]
  },
  {
   "cell_type": "code",
   "execution_count": 9,
   "metadata": {},
   "outputs": [],
   "source": [
    "from sklearn.preprocessing import StandardScaler\n",
    "from sklearn.metrics.pairwise import cosine_similarity\n",
    "import pandas as pd\n",
    "import numpy as np\n",
    "from datetime import datetime\n"
   ]
  },
  {
   "cell_type": "markdown",
   "metadata": {},
   "source": [
    "Loading data sets and Initial Inspections"
   ]
  },
  {
   "cell_type": "code",
   "execution_count": 10,
   "metadata": {},
   "outputs": [
    {
     "data": {
      "text/plain": [
       "(  CustomerID        CustomerName         Region  SignupDate\n",
       " 0      C0001    Lawrence Carroll  South America  2022-07-10\n",
       " 1      C0002      Elizabeth Lutz           Asia  2022-02-13\n",
       " 2      C0003      Michael Rivera  South America  2024-03-07\n",
       " 3      C0004  Kathleen Rodriguez  South America  2022-10-09\n",
       " 4      C0005         Laura Weber           Asia  2022-08-15,\n",
       "   ProductID              ProductName     Category   Price\n",
       " 0      P001     ActiveWear Biography        Books  169.30\n",
       " 1      P002    ActiveWear Smartwatch  Electronics  346.30\n",
       " 2      P003  ComfortLiving Biography        Books   44.12\n",
       " 3      P004            BookWorld Rug   Home Decor   95.69\n",
       " 4      P005          TechPro T-Shirt     Clothing  429.31,\n",
       "   TransactionID CustomerID ProductID      TransactionDate  Quantity  \\\n",
       " 0        T00001      C0199      P067  2024-08-25 12:38:23         1   \n",
       " 1        T00112      C0146      P067  2024-05-27 22:23:54         1   \n",
       " 2        T00166      C0127      P067  2024-04-25 07:38:55         1   \n",
       " 3        T00272      C0087      P067  2024-03-26 22:55:37         2   \n",
       " 4        T00363      C0070      P067  2024-03-21 15:10:10         3   \n",
       " \n",
       "    TotalValue   Price  \n",
       " 0      300.68  300.68  \n",
       " 1      300.68  300.68  \n",
       " 2      300.68  300.68  \n",
       " 3      601.36  300.68  \n",
       " 4      902.04  300.68  )"
      ]
     },
     "execution_count": 10,
     "metadata": {},
     "output_type": "execute_result"
    }
   ],
   "source": [
    "# Load the datasets\n",
    "customers = pd.read_csv('Customers.csv')\n",
    "products = pd.read_csv('Products.csv')\n",
    "transactions = pd.read_csv('Transactions.csv')\n",
    "\n",
    "# Display the first few rows of each dataset for inspection\n",
    "customers.head(), products.head(), transactions.head()"
   ]
  },
  {
   "cell_type": "markdown",
   "metadata": {},
   "source": [
    "# Creating Features for evaluating data"
   ]
  },
  {
   "cell_type": "markdown",
   "metadata": {},
   "source": [
    "Data Merging and Preprocessing"
   ]
  },
  {
   "cell_type": "code",
   "execution_count": 11,
   "metadata": {},
   "outputs": [],
   "source": [
    "# Convert dates to datetime for better analysis\n",
    "customers['SignupDate'] = pd.to_datetime(customers['SignupDate'])\n",
    "transactions['TransactionDate'] = pd.to_datetime(transactions['TransactionDate'])"
   ]
  },
  {
   "cell_type": "code",
   "execution_count": 12,
   "metadata": {},
   "outputs": [
    {
     "name": "stdout",
     "output_type": "stream",
     "text": [
      "Index(['TransactionID', 'CustomerID', 'ProductID', 'TransactionDate',\n",
      "       'Quantity', 'TotalValue', 'Price_x', 'ProductName', 'Category',\n",
      "       'Price_y', 'CustomerName', 'Region', 'SignupDate'],\n",
      "      dtype='object')\n"
     ]
    }
   ],
   "source": [
    "# Merge transaction data with product and customer data for a unified dataset\n",
    "transactions = transactions.merge(products, on='ProductID', how='left')\n",
    "transactions = transactions.merge(customers, on='CustomerID', how='left')\n",
    "# Seeing for columns overlapping\n",
    "print(transactions.columns)"
   ]
  },
  {
   "cell_type": "markdown",
   "metadata": {},
   "source": [
    "Fixing Overlapping"
   ]
  },
  {
   "cell_type": "code",
   "execution_count": 13,
   "metadata": {},
   "outputs": [],
   "source": [
    "# Drop 'Price' and 'Price_y' columns\n",
    "transactions = transactions.drop(columns=['Price_y'])\n",
    "\n",
    "# Rename 'Price_x' to 'Price'\n",
    "transactions = transactions.rename(columns={'Price_x': 'Price'})"
   ]
  },
  {
   "cell_type": "markdown",
   "metadata": {},
   "source": [
    "Feature Aggregation"
   ]
  },
  {
   "cell_type": "code",
   "execution_count": 14,
   "metadata": {},
   "outputs": [],
   "source": [
    "# Step 1: Feature Aggregation\n",
    "customer_features = transactions.groupby('CustomerID').agg(\n",
    "    total_spent=('TotalValue', 'sum'),\n",
    "    transaction_count=('TransactionID', 'count'),\n",
    "    average_price=('Price', 'mean'),\n",
    "    unique_categories=('Category', lambda x: len(x.unique()))\n",
    ").reset_index()\n",
    "\n",
    "# Merge customer features with demographic information (e.g., Region)\n",
    "customer_features = customer_features.merge(customers[['CustomerID', 'Region']], on='CustomerID', how='left')\n"
   ]
  },
  {
   "cell_type": "markdown",
   "metadata": {},
   "source": [
    "Step 2 : Encoding Categorical Data\n",
    "The region column is One-Hot Encodinf using pd.get_dummies This converts the categorical region information into numerical columns, making it compatible with the similarity computation.\n",
    "\n",
    "Step 3 : Normalization\n",
    "Customer behavior and demographic features vary significantly in scale (e.g., total spending vs. average price). To address this, the features are normalized using StandardScaler. This scales all numerical values to a standard range, ensuring that no single feature dominates the similarity computation.\n",
    "\n",
    "Step 4 : Cosine Similarity\n",
    "Cosine Similarity\n",
    "The cosine similarity metric is used to measure the similarity between customers. Why Cosine Similarity? It computes the cosine of the angle between two feature vectors, making it suitable for high-dimensional data where magnitudes (e.g., spending amounts) should not bias the similarity score."
   ]
  },
  {
   "cell_type": "code",
   "execution_count": 15,
   "metadata": {},
   "outputs": [],
   "source": [
    "# Step 2: Encoding Categorical Data\n",
    "encoded_features = pd.get_dummies(customer_features, columns=['Region'], drop_first=True)\n",
    "\n",
    "# Step 3: Normalization\n",
    "scaler = StandardScaler()\n",
    "normalized_features = scaler.fit_transform(encoded_features.drop(columns=['CustomerID']))\n",
    "\n",
    "# Step 4: Cosine Similarity\n",
    "similarity_matrix = cosine_similarity(normalized_features)\n",
    "similarity_df = pd.DataFrame(similarity_matrix, index=customer_features['CustomerID'], columns=customer_features['CustomerID'])\n",
    "\n",
    "# Step 5: Find Top 3 Lookalikes for First 20 Customers\n",
    "lookalike_results = {}\n",
    "for customer_id in customer_features['CustomerID'][:20]:\n",
    "    similar_customers = similarity_df[customer_id].sort_values(ascending=False)[1:4]  # Excluding the customer itself\n",
    "    lookalike_results[customer_id] = [\n",
    "        (similar_customer, round(score, 4)) for similar_customer, score in similar_customers.items()\n",
    "    ]\n",
    "\n",
    "# Step 6: Prepare Results for Output\n",
    "lookalike_df = pd.DataFrame([\n",
    "    {\"CustomerID\": cust_id, \"Lookalikes\": str(lookalikes)}\n",
    "    for cust_id, lookalikes in lookalike_results.items()\n",
    "])\n",
    "# Save to CSV\n",
    "lookalike_df.to_csv('Ishan_Ayush_Lookalike.csv', index=False)\n"
   ]
  }
 ],
 "metadata": {
  "kernelspec": {
   "display_name": "Python 3",
   "language": "python",
   "name": "python3"
  },
  "language_info": {
   "codemirror_mode": {
    "name": "ipython",
    "version": 3
   },
   "file_extension": ".py",
   "mimetype": "text/x-python",
   "name": "python",
   "nbconvert_exporter": "python",
   "pygments_lexer": "ipython3",
   "version": "3.11.1"
  }
 },
 "nbformat": 4,
 "nbformat_minor": 2
}
